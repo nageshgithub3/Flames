{
 "cells": [
  {
   "cell_type": "code",
   "execution_count": null,
   "id": "7c0c4e32",
   "metadata": {},
   "outputs": [],
   "source": [
    "print(\"Welcome to FLAMES created by Nagesh Yadav using Python🤍\")\n",
    "print(\"Check the relationship status between you and your crush right now!!😍\")\n",
    "user = input(\"Type 'play' to play FLAMES, 'end' to exit :- \")\n",
    "is_on = True\n",
    "while is_on:\n",
    "    if user == \"play\":\n",
    "        boy = input(\"What's your name??\")\n",
    "        girl = input(\"what's your crush's name??\")\n",
    "        dict = {}\n",
    "        for i in boy:\n",
    "            if i not in dict:\n",
    "                dict[i] = 1\n",
    "            elif i in dict:\n",
    "                if dict[i] == 1:\n",
    "                    dict[i] -= 1\n",
    "                else:\n",
    "                    dict[i] += 1\n",
    "        for j in girl:\n",
    "            if j not in dict:\n",
    "                dict[j] = 1\n",
    "            elif j in dict:\n",
    "                if dict[j] == 1:\n",
    "                    dict[j] -= 1\n",
    "                else:\n",
    "                    dict[j] += 1\n",
    "        num = 0\n",
    "        for letter in dict:\n",
    "            if dict[letter] == 1:\n",
    "                num += 1\n",
    "        res = [\"It's F..You are born to be frieds🫂\", \"It's L..You are made for each other❤️\", \"It's A..Affection is holding you together..Enhance it🤗\", \"It's 'M'!!  Time to think of family planning coz u both r going to Animun\"]\n",
    "        while len(res) > 1:\n",
    "            split_index = (num % len(res) - 1)\n",
    "            if split_index >= 0:\n",
    "                right = res[split_index + 1:]\n",
    "                left = res[: split_index]\n",
    "                res = right + left\n",
    "            else:\n",
    "                res = res[: len(res) - 1]\n",
    "        print(res[0])\n",
    "        is_on = False\n",
    "    elif user == \"end\":\n",
    "        print(\"Thank you..Hope you had a good time playing FLAMES using Python\")\n",
    "        is_on = False\n",
    "    else:\n",
    "        print(\"Invalid Input!!\")\n",
    "        is_on = False"
   ]
  }
 ],
 "metadata": {
  "kernelspec": {
   "display_name": "Python 3 (ipykernel)",
   "language": "python",
   "name": "python3"
  },
  "language_info": {
   "codemirror_mode": {
    "name": "ipython",
    "version": 3
   },
   "file_extension": ".py",
   "mimetype": "text/x-python",
   "name": "python",
   "nbconvert_exporter": "python",
   "pygments_lexer": "ipython3",
   "version": "3.11.5"
  }
 },
 "nbformat": 4,
 "nbformat_minor": 5
}
